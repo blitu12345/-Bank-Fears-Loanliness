{
 "cells": [
  {
   "cell_type": "code",
   "execution_count": 1,
   "metadata": {
    "collapsed": false
   },
   "outputs": [],
   "source": [
    "from sklearn.ensemble import RandomForestClassifier\n",
    "from sklearn.naive_bayes import GaussianNB\n",
    "import pandas as pd\n",
    "import numpy as np\n",
    "from sklearn.linear_model import LogisticRegression\n",
    "from sklearn.model_selection import train_test_split, cross_val_score, GridSearchCV"
   ]
  },
  {
   "cell_type": "code",
   "execution_count": 2,
   "metadata": {
    "collapsed": false
   },
   "outputs": [],
   "source": [
    "df = pd.read_csv('train.csv')\n",
    "df1 = pd.read_csv('test.csv')\n",
    "df = df.sample(frac=1).reset_index(drop=True)\n",
    "#print len(df[df.loan_status==0]),len(df[df.loan_status==1])#532428.0\n",
    "\n",
    "def generate(ind=None):\n",
    "    df = pd.read_csv('train.csv')\n",
    "    df1 = df[df.loan_status==0].sample(frac=1).reset_index(drop=True)\n",
    "    df2 = df[df.loan_status==1]\n",
    "    x = np.linspace(0,406601,4).astype(int)\n",
    "    return pd.concat([df1.iloc[x[ind-1]:x[ind]],df2],axis=0).reset_index(drop=True)"
   ]
  },
  {
   "cell_type": "code",
   "execution_count": 3,
   "metadata": {
    "collapsed": false
   },
   "outputs": [],
   "source": [
    "### excluding low expected and object type features\n",
    "def get_train_test():\n",
    "    df_train = pd.read_csv('train.csv')\n",
    "    df_test = pd.read_csv('test.csv')\n",
    "    df = pd.concat([df_train,df_test],ignore_index=True)\n",
    "    '''cols = [col for col in df.columns if df[col].dtype=='object']\n",
    "    df.drop(cols,axis=1,inplace=True)\n",
    "    cols = df.columns.tolist()\n",
    "    print df.info()\n",
    "    for col in cols:\n",
    "        print col+\"-\"*5+str(df[col].dtype)+\"\\n\"\n",
    "        drop = input()\n",
    "        if drop==1:\n",
    "            df.drop(col,axis=1,inplace=True)'''\n",
    "    return df[[\"acc_now_delinq\",'annual_inc','collection_recovery_fee','delinq_2yrs','dti',\n",
    "              'funded_amnt','inq_last_6mths','int_rate','open_acc','pub_rec','tot_coll_amt',\n",
    "               'tot_cur_bal','total_acc','loan_status','revol_bal']]\n",
    "\n",
    "def get_duo():\n",
    "    return pd.read_csv('duo.csv')\n",
    "\n",
    "df = get_duo()"
   ]
  },
  {
   "cell_type": "code",
   "execution_count": 4,
   "metadata": {
    "collapsed": false
   },
   "outputs": [],
   "source": [
    "#df['revol_bal'] = pd.concat([pd.read_csv('train.csv'),pd.read_csv('test.csv')],ignore_index=True)['revol_bal']\n",
    "#df['loan_status'] = pd.concat([pd.read_csv('train.csv'),pd.read_csv('test.csv')],ignore_index=True)['loan_status']\n",
    "#df.drop(['revol_util'],axis=1,inplace=True)"
   ]
  },
  {
   "cell_type": "code",
   "execution_count": 5,
   "metadata": {
    "collapsed": false
   },
   "outputs": [
    {
     "name": "stdout",
     "output_type": "stream",
     "text": [
      "annual_inc\n",
      "\n",
      "tot_cur_bal\n",
      "\n",
      "total_acc\n",
      "\n",
      "annual%laon_amnt\n",
      "\n"
     ]
    }
   ],
   "source": [
    "#### insert mean values with one or more missing values\n",
    "labels = df[df['loan_status'].notnull()]['loan_status'].values\n",
    "df.drop(['loan_status'],axis=1,inplace=True)\n",
    "cols = df.columns\n",
    "\n",
    "for col in cols:\n",
    "    if (df[col].isnull().any()):\n",
    "        print col\n",
    "        print \n",
    "        df[col].fillna(df[col].mean(),inplace=True)"
   ]
  },
  {
   "cell_type": "code",
   "execution_count": 24,
   "metadata": {
    "collapsed": false
   },
   "outputs": [],
   "source": [
    "#### seperate dataframnes\n",
    "leng = len(labels)\n",
    "df_train = df.iloc[:leng]\n",
    "df_test = df.iloc[leng:]\n",
    "xtrain = df_train.values\n",
    "xtest = df_test.values\n",
    "clf = RandomForestClassifier(min_samples_leaf=40, n_estimators=60)\n",
    "clf.fit(xtrain,labels)\n",
    "pred = clf.predict_proba(xtest)\n",
    "member_id = pd.read_csv('test.csv').member_id.values\n",
    "df_sub = pd.DataFrame({\"member_id\":member_id,\n",
    "                     'loan_status':pred[:,1]}\n",
    "                    )\n"
   ]
  },
  {
   "cell_type": "code",
   "execution_count": 25,
   "metadata": {
    "collapsed": false
   },
   "outputs": [
    {
     "name": "stdout",
     "output_type": "stream",
     "text": [
      "354951\n",
      "354951\n"
     ]
    },
    {
     "name": "stderr",
     "output_type": "stream",
     "text": [
      "/usr/local/lib/python2.7/dist-packages/ipykernel/__main__.py:15: FutureWarning: sort(columns=....) is deprecated, use sort_values(by=.....)\n"
     ]
    },
    {
     "data": {
      "text/html": [
       "<div>\n",
       "<table border=\"1\" class=\"dataframe\">\n",
       "  <thead>\n",
       "    <tr style=\"text-align: right;\">\n",
       "      <th></th>\n",
       "      <th>features</th>\n",
       "      <th>importances</th>\n",
       "    </tr>\n",
       "  </thead>\n",
       "  <tbody>\n",
       "    <tr>\n",
       "      <th>53</th>\n",
       "      <td>mem_id_high</td>\n",
       "      <td>0.2742</td>\n",
       "    </tr>\n",
       "    <tr>\n",
       "      <th>57</th>\n",
       "      <td>mem_id_lowest</td>\n",
       "      <td>0.1086</td>\n",
       "    </tr>\n",
       "    <tr>\n",
       "      <th>56</th>\n",
       "      <td>mem_id_low3</td>\n",
       "      <td>0.0862</td>\n",
       "    </tr>\n",
       "    <tr>\n",
       "      <th>4</th>\n",
       "      <td>tot_cur_bal</td>\n",
       "      <td>0.0480</td>\n",
       "    </tr>\n",
       "    <tr>\n",
       "      <th>55</th>\n",
       "      <td>mem_id_low2</td>\n",
       "      <td>0.0423</td>\n",
       "    </tr>\n",
       "    <tr>\n",
       "      <th>28</th>\n",
       "      <td>initial_list_status_f</td>\n",
       "      <td>0.0382</td>\n",
       "    </tr>\n",
       "    <tr>\n",
       "      <th>54</th>\n",
       "      <td>mem_id_low1</td>\n",
       "      <td>0.0362</td>\n",
       "    </tr>\n",
       "    <tr>\n",
       "      <th>31</th>\n",
       "      <td>recovery_low</td>\n",
       "      <td>0.0350</td>\n",
       "    </tr>\n",
       "    <tr>\n",
       "      <th>30</th>\n",
       "      <td>recovery_high0</td>\n",
       "      <td>0.0340</td>\n",
       "    </tr>\n",
       "    <tr>\n",
       "      <th>58</th>\n",
       "      <td>mem_id_medium</td>\n",
       "      <td>0.0327</td>\n",
       "    </tr>\n",
       "    <tr>\n",
       "      <th>29</th>\n",
       "      <td>initial_list_status_w</td>\n",
       "      <td>0.0321</td>\n",
       "    </tr>\n",
       "    <tr>\n",
       "      <th>36</th>\n",
       "      <td>sanc</td>\n",
       "      <td>0.0240</td>\n",
       "    </tr>\n",
       "    <tr>\n",
       "      <th>2</th>\n",
       "      <td>int_rate</td>\n",
       "      <td>0.0227</td>\n",
       "    </tr>\n",
       "    <tr>\n",
       "      <th>3</th>\n",
       "      <td>loan_amnt</td>\n",
       "      <td>0.0224</td>\n",
       "    </tr>\n",
       "    <tr>\n",
       "      <th>70</th>\n",
       "      <td>rec_int_medium6846</td>\n",
       "      <td>0.0214</td>\n",
       "    </tr>\n",
       "    <tr>\n",
       "      <th>69</th>\n",
       "      <td>rec_int_medium245</td>\n",
       "      <td>0.0209</td>\n",
       "    </tr>\n",
       "    <tr>\n",
       "      <th>1</th>\n",
       "      <td>dti</td>\n",
       "      <td>0.0180</td>\n",
       "    </tr>\n",
       "    <tr>\n",
       "      <th>67</th>\n",
       "      <td>rec_int_high</td>\n",
       "      <td>0.0161</td>\n",
       "    </tr>\n",
       "    <tr>\n",
       "      <th>71</th>\n",
       "      <td>annual%laon_amnt</td>\n",
       "      <td>0.0157</td>\n",
       "    </tr>\n",
       "    <tr>\n",
       "      <th>68</th>\n",
       "      <td>rec_int_lowest</td>\n",
       "      <td>0.0111</td>\n",
       "    </tr>\n",
       "    <tr>\n",
       "      <th>0</th>\n",
       "      <td>annual_inc</td>\n",
       "      <td>0.0097</td>\n",
       "    </tr>\n",
       "    <tr>\n",
       "      <th>24</th>\n",
       "      <td>Grade_high</td>\n",
       "      <td>0.0082</td>\n",
       "    </tr>\n",
       "    <tr>\n",
       "      <th>5</th>\n",
       "      <td>total_acc</td>\n",
       "      <td>0.0076</td>\n",
       "    </tr>\n",
       "    <tr>\n",
       "      <th>14</th>\n",
       "      <td>verification_status_Source Verified</td>\n",
       "      <td>0.0050</td>\n",
       "    </tr>\n",
       "    <tr>\n",
       "      <th>13</th>\n",
       "      <td>verification_status_Not Verified</td>\n",
       "      <td>0.0038</td>\n",
       "    </tr>\n",
       "    <tr>\n",
       "      <th>25</th>\n",
       "      <td>Grade_low</td>\n",
       "      <td>0.0029</td>\n",
       "    </tr>\n",
       "    <tr>\n",
       "      <th>49</th>\n",
       "      <td>inq_6mths_0</td>\n",
       "      <td>0.0027</td>\n",
       "    </tr>\n",
       "    <tr>\n",
       "      <th>20</th>\n",
       "      <td>loan_purpose_lev5</td>\n",
       "      <td>0.0021</td>\n",
       "    </tr>\n",
       "    <tr>\n",
       "      <th>15</th>\n",
       "      <td>verification_status_Verified</td>\n",
       "      <td>0.0020</td>\n",
       "    </tr>\n",
       "    <tr>\n",
       "      <th>23</th>\n",
       "      <td>Grade_C</td>\n",
       "      <td>0.0018</td>\n",
       "    </tr>\n",
       "    <tr>\n",
       "      <th>...</th>\n",
       "      <td>...</td>\n",
       "      <td>...</td>\n",
       "    </tr>\n",
       "    <tr>\n",
       "      <th>19</th>\n",
       "      <td>loan_purpose_lev4</td>\n",
       "      <td>0.0004</td>\n",
       "    </tr>\n",
       "    <tr>\n",
       "      <th>33</th>\n",
       "      <td>delinq_1</td>\n",
       "      <td>0.0004</td>\n",
       "    </tr>\n",
       "    <tr>\n",
       "      <th>35</th>\n",
       "      <td>delinq_3_</td>\n",
       "      <td>0.0002</td>\n",
       "    </tr>\n",
       "    <tr>\n",
       "      <th>65</th>\n",
       "      <td>rec_3</td>\n",
       "      <td>0.0002</td>\n",
       "    </tr>\n",
       "    <tr>\n",
       "      <th>18</th>\n",
       "      <td>loan_purpose_lev3</td>\n",
       "      <td>0.0002</td>\n",
       "    </tr>\n",
       "    <tr>\n",
       "      <th>59</th>\n",
       "      <td>mths_last_record_high</td>\n",
       "      <td>0.0002</td>\n",
       "    </tr>\n",
       "    <tr>\n",
       "      <th>45</th>\n",
       "      <td>med_collections_high1</td>\n",
       "      <td>0.0001</td>\n",
       "    </tr>\n",
       "    <tr>\n",
       "      <th>17</th>\n",
       "      <td>loan_purpose_lev2</td>\n",
       "      <td>0.0001</td>\n",
       "    </tr>\n",
       "    <tr>\n",
       "      <th>34</th>\n",
       "      <td>delinq_2</td>\n",
       "      <td>0.0001</td>\n",
       "    </tr>\n",
       "    <tr>\n",
       "      <th>44</th>\n",
       "      <td>med_collections_high0</td>\n",
       "      <td>0.0001</td>\n",
       "    </tr>\n",
       "    <tr>\n",
       "      <th>21</th>\n",
       "      <td>application_type_INDIVIDUAL</td>\n",
       "      <td>0.0000</td>\n",
       "    </tr>\n",
       "    <tr>\n",
       "      <th>22</th>\n",
       "      <td>application_type_JOINT</td>\n",
       "      <td>0.0000</td>\n",
       "    </tr>\n",
       "    <tr>\n",
       "      <th>26</th>\n",
       "      <td>pymnt_plan_n</td>\n",
       "      <td>0.0000</td>\n",
       "    </tr>\n",
       "    <tr>\n",
       "      <th>27</th>\n",
       "      <td>pymnt_plan_y</td>\n",
       "      <td>0.0000</td>\n",
       "    </tr>\n",
       "    <tr>\n",
       "      <th>66</th>\n",
       "      <td>rec_4_</td>\n",
       "      <td>0.0000</td>\n",
       "    </tr>\n",
       "    <tr>\n",
       "      <th>62</th>\n",
       "      <td>mths_last_record_medium</td>\n",
       "      <td>0.0000</td>\n",
       "    </tr>\n",
       "    <tr>\n",
       "      <th>43</th>\n",
       "      <td>acc_delinq_medium2</td>\n",
       "      <td>0.0000</td>\n",
       "    </tr>\n",
       "    <tr>\n",
       "      <th>10</th>\n",
       "      <td>ownership_high</td>\n",
       "      <td>0.0000</td>\n",
       "    </tr>\n",
       "    <tr>\n",
       "      <th>11</th>\n",
       "      <td>ownership_low</td>\n",
       "      <td>0.0000</td>\n",
       "    </tr>\n",
       "    <tr>\n",
       "      <th>12</th>\n",
       "      <td>ownership_medium</td>\n",
       "      <td>0.0000</td>\n",
       "    </tr>\n",
       "    <tr>\n",
       "      <th>38</th>\n",
       "      <td>Revol_bal_lowest</td>\n",
       "      <td>0.0000</td>\n",
       "    </tr>\n",
       "    <tr>\n",
       "      <th>39</th>\n",
       "      <td>Revol_bal_middle</td>\n",
       "      <td>0.0000</td>\n",
       "    </tr>\n",
       "    <tr>\n",
       "      <th>40</th>\n",
       "      <td>acc_delinq_high0</td>\n",
       "      <td>0.0000</td>\n",
       "    </tr>\n",
       "    <tr>\n",
       "      <th>50</th>\n",
       "      <td>inq_6mths_15_</td>\n",
       "      <td>0.0000</td>\n",
       "    </tr>\n",
       "    <tr>\n",
       "      <th>41</th>\n",
       "      <td>acc_delinq_low3_</td>\n",
       "      <td>0.0000</td>\n",
       "    </tr>\n",
       "    <tr>\n",
       "      <th>48</th>\n",
       "      <td>med_collections_lowest</td>\n",
       "      <td>0.0000</td>\n",
       "    </tr>\n",
       "    <tr>\n",
       "      <th>47</th>\n",
       "      <td>med_collections_low3</td>\n",
       "      <td>0.0000</td>\n",
       "    </tr>\n",
       "    <tr>\n",
       "      <th>46</th>\n",
       "      <td>med_collections_low2</td>\n",
       "      <td>0.0000</td>\n",
       "    </tr>\n",
       "    <tr>\n",
       "      <th>42</th>\n",
       "      <td>acc_delinq_medium1</td>\n",
       "      <td>0.0000</td>\n",
       "    </tr>\n",
       "    <tr>\n",
       "      <th>37</th>\n",
       "      <td>Revol_bal_high</td>\n",
       "      <td>0.0000</td>\n",
       "    </tr>\n",
       "  </tbody>\n",
       "</table>\n",
       "<p>72 rows × 2 columns</p>\n",
       "</div>"
      ],
      "text/plain": [
       "                               features  importances\n",
       "53                          mem_id_high       0.2742\n",
       "57                        mem_id_lowest       0.1086\n",
       "56                          mem_id_low3       0.0862\n",
       "4                           tot_cur_bal       0.0480\n",
       "55                          mem_id_low2       0.0423\n",
       "28                initial_list_status_f       0.0382\n",
       "54                          mem_id_low1       0.0362\n",
       "31                         recovery_low       0.0350\n",
       "30                       recovery_high0       0.0340\n",
       "58                        mem_id_medium       0.0327\n",
       "29                initial_list_status_w       0.0321\n",
       "36                                 sanc       0.0240\n",
       "2                              int_rate       0.0227\n",
       "3                             loan_amnt       0.0224\n",
       "70                   rec_int_medium6846       0.0214\n",
       "69                    rec_int_medium245       0.0209\n",
       "1                                   dti       0.0180\n",
       "67                         rec_int_high       0.0161\n",
       "71                     annual%laon_amnt       0.0157\n",
       "68                       rec_int_lowest       0.0111\n",
       "0                            annual_inc       0.0097\n",
       "24                           Grade_high       0.0082\n",
       "5                             total_acc       0.0076\n",
       "14  verification_status_Source Verified       0.0050\n",
       "13     verification_status_Not Verified       0.0038\n",
       "25                            Grade_low       0.0029\n",
       "49                          inq_6mths_0       0.0027\n",
       "20                    loan_purpose_lev5       0.0021\n",
       "15         verification_status_Verified       0.0020\n",
       "23                              Grade_C       0.0018\n",
       "..                                  ...          ...\n",
       "19                    loan_purpose_lev4       0.0004\n",
       "33                             delinq_1       0.0004\n",
       "35                            delinq_3_       0.0002\n",
       "65                                rec_3       0.0002\n",
       "18                    loan_purpose_lev3       0.0002\n",
       "59                mths_last_record_high       0.0002\n",
       "45                med_collections_high1       0.0001\n",
       "17                    loan_purpose_lev2       0.0001\n",
       "34                             delinq_2       0.0001\n",
       "44                med_collections_high0       0.0001\n",
       "21          application_type_INDIVIDUAL       0.0000\n",
       "22               application_type_JOINT       0.0000\n",
       "26                         pymnt_plan_n       0.0000\n",
       "27                         pymnt_plan_y       0.0000\n",
       "66                               rec_4_       0.0000\n",
       "62              mths_last_record_medium       0.0000\n",
       "43                   acc_delinq_medium2       0.0000\n",
       "10                       ownership_high       0.0000\n",
       "11                        ownership_low       0.0000\n",
       "12                     ownership_medium       0.0000\n",
       "38                     Revol_bal_lowest       0.0000\n",
       "39                     Revol_bal_middle       0.0000\n",
       "40                     acc_delinq_high0       0.0000\n",
       "50                        inq_6mths_15_       0.0000\n",
       "41                     acc_delinq_low3_       0.0000\n",
       "48               med_collections_lowest       0.0000\n",
       "47                 med_collections_low3       0.0000\n",
       "46                 med_collections_low2       0.0000\n",
       "42                   acc_delinq_medium1       0.0000\n",
       "37                       Revol_bal_high       0.0000\n",
       "\n",
       "[72 rows x 2 columns]"
      ]
     },
     "execution_count": 25,
     "metadata": {},
     "output_type": "execute_result"
    }
   ],
   "source": [
    "print len(member_id)\n",
    "print len(pred[:,1])\n",
    "\n",
    "def frmt(item):\n",
    "    return float(format(item,'.4f'))\n",
    "\n",
    "def features_imp(clf):\n",
    "    imp = map(frmt,clf.feature_importances_)\n",
    "    feat = list(df_train.columns)\n",
    "    df = pd.DataFrame({'features': feat,\n",
    "                       'importances': imp\n",
    "                      })\n",
    "    return df\n",
    "\n",
    "features_imp(clf).sort(['importances'],ascending=False)\n"
   ]
  },
  {
   "cell_type": "code",
   "execution_count": 26,
   "metadata": {
    "collapsed": false
   },
   "outputs": [
    {
     "name": "stdout",
     "output_type": "stream",
     "text": [
      "count    354951.000000\n",
      "mean          0.240776\n",
      "std           0.253559\n",
      "min           0.000000\n",
      "25%           0.052737\n",
      "50%           0.149385\n",
      "75%           0.339793\n",
      "max           0.984730\n",
      "Name: loan_status, dtype: float64\n"
     ]
    }
   ],
   "source": [
    "print df_sub['loan_status'].describe()"
   ]
  },
  {
   "cell_type": "code",
   "execution_count": 29,
   "metadata": {
    "collapsed": false,
    "scrolled": false
   },
   "outputs": [
    {
     "name": "stdout",
     "output_type": "stream",
     "text": [
      "count    354951.000000\n",
      "mean          0.240776\n",
      "std           0.253559\n",
      "min           0.000010\n",
      "25%           0.052737\n",
      "50%           0.149385\n",
      "75%           0.339793\n",
      "max           0.984730\n",
      "Name: loan_status, dtype: float64\n"
     ]
    }
   ],
   "source": [
    "df_sub.drop(['loan_status'],axis=1,inplace=True)\n",
    "df_sub['loan_status'] = pred[:,1]\n",
    "df_sub.loc[ (df_sub.loan_status==0) | (df_sub.loan_status==1),'loan_status'] = np.array(0.00001)\n",
    "df_sub.to_csv(\"submission_new1.csv\",index=False)\n",
    "print df_sub['loan_status'].describe()\n",
    "\n",
    "# df_sub.drop(['loan_status'],axis=1,inplace=True)\n",
    "# df_sub['loan_status'] = np.array([0.0]*354951)\n",
    "# df_sub.to_csv(\"submission1.csv\",index=False)"
   ]
  },
  {
   "cell_type": "code",
   "execution_count": 29,
   "metadata": {
    "collapsed": false
   },
   "outputs": [],
   "source": [
    "df_sub['loan_status'] = df_sub['loan_status'].map(frmt)\n",
    "df_sub.to_csv(\"submission1_new.csv\",index=False)"
   ]
  },
  {
   "cell_type": "code",
   "execution_count": 11,
   "metadata": {
    "collapsed": false
   },
   "outputs": [
    {
     "data": {
      "text/plain": [
       "count    354951.000000\n",
       "mean          0.240804\n",
       "std           0.242210\n",
       "min           0.007917\n",
       "25%           0.063721\n",
       "50%           0.158893\n",
       "75%           0.335733\n",
       "max           0.971190\n",
       "Name: loan_status, dtype: float64"
      ]
     },
     "execution_count": 11,
     "metadata": {},
     "output_type": "execute_result"
    }
   ],
   "source": [
    "df_sub['loan_status'].describe()"
   ]
  },
  {
   "cell_type": "code",
   "execution_count": 12,
   "metadata": {
    "collapsed": true
   },
   "outputs": [],
   "source": [
    "### selection of algo\n",
    "### spliting training set into cv,test and train\n",
    "\n",
    "\n",
    "\n",
    "clf_rf = RandomForestClassifier()\n",
    "clf_lr = LogisticRegression()\n",
    "clf_nb = GaussianNB()\n",
    "x,x_test,y,y_test = train_test_split(xtrain,labels,test_size=0.2,train_size=0.8)\n",
    "x_train,x_cv,y_train,y_cv = train_test_split(x,y,test_size = 0.1,train_size=0.9)\n",
    "\n",
    "\n",
    "\n",
    "\n",
    "# for clf in [clf_rf,clf_lr,clf_nb]:\n",
    "#     print cross_val_score(clf,x_train,y_train,scoring=\"f1\").mean()"
   ]
  },
  {
   "cell_type": "code",
   "execution_count": 10,
   "metadata": {
    "collapsed": true
   },
   "outputs": [
    {
     "name": "stdout",
     "output_type": "stream",
     "text": [
      "0.746752154837\n",
      "0.624499086462\n",
      "0.621492627056\n"
     ]
    }
   ],
   "source": [
    "for clf in [clf_rf,clf_lr,clf_nb]:\n",
    "    print cross_val_score(clf,x_train,y_train,scoring=\"roc_auc\").mean()"
   ]
  },
  {
   "cell_type": "code",
   "execution_count": 13,
   "metadata": {
    "collapsed": false
   },
   "outputs": [
    {
     "name": "stdout",
     "output_type": "stream",
     "text": [
      "up here 1\n"
     ]
    },
    {
     "data": {
      "text/plain": [
       "{'min_samples_leaf': 40, 'n_estimators': 60}"
      ]
     },
     "execution_count": 13,
     "metadata": {},
     "output_type": "execute_result"
    }
   ],
   "source": [
    "print \"up here 1\"\n",
    "### since random forest serves best for our problem\n",
    "### using gridsearchcv for tunning classifier arguments\n",
    "\n",
    "\n",
    "\n",
    "\n",
    "para = {\n",
    "    'n_estimators' : [10,20,40,60,80],\n",
    "    'min_samples_leaf' : [40,50,70,90],\n",
    "}\n",
    "clf_rf.get_params().keys()\n",
    "clf_gs = GridSearchCV(estimator = clf_rf, param_grid = para, cv= 5, scoring = \"roc_auc\")\n",
    "clf_gs.fit(x_train,y_train)\n",
    "clf_gs.best_params_"
   ]
  },
  {
   "cell_type": "code",
   "execution_count": null,
   "metadata": {
    "collapsed": true
   },
   "outputs": [],
   "source": [
    "df_sol1 = "
   ]
  }
 ],
 "metadata": {
  "kernelspec": {
   "display_name": "Python 2",
   "language": "python",
   "name": "python2"
  },
  "language_info": {
   "codemirror_mode": {
    "name": "ipython",
    "version": 2
   },
   "file_extension": ".py",
   "mimetype": "text/x-python",
   "name": "python",
   "nbconvert_exporter": "python",
   "pygments_lexer": "ipython2",
   "version": "2.7.6"
  }
 },
 "nbformat": 4,
 "nbformat_minor": 2
}
